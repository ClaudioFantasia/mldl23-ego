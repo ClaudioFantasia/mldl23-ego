{
  "cells": [
    {
      "cell_type": "markdown",
      "metadata": {
        "id": "view-in-github",
        "colab_type": "text"
      },
      "source": [
        "<a href=\"https://colab.research.google.com/github/Raoolo/mldl23-ego/blob/master/Progetto5_20.ipynb\" target=\"_parent\"><img src=\"https://colab.research.google.com/assets/colab-badge.svg\" alt=\"Open In Colab\"/></a>"
      ]
    },
    {
      "cell_type": "markdown",
      "metadata": {
        "id": "kXWvQN30hcLy"
      },
      "source": [
        "# Colab Runner for MLDL23-Ego"
      ]
    },
    {
      "cell_type": "markdown",
      "metadata": {
        "id": "view-in-github"
      },
      "source": [
        "<a href=\"https://colab.research.google.com/github/EgovisionPolito/mldl23-ego/blob/master/colab_runner.ipynb\" target=\"_parent\"><img src=\"https://colab.research.google.com/assets/colab-badge.svg\" alt=\"Open In Colab\"/></a>"
      ]
    },
    {
      "cell_type": "markdown",
      "metadata": {
        "id": "aTitf039hcL1"
      },
      "source": [
        "## EPIC-Kitchens-55 dataset\n",
        "\n",
        "**READ carefully!**\n",
        "\n",
        "To develop the project, you need to download the RGB frames for a subset of EPIC-Kitchens-55 (participants P08, P01 and P22) from [here](https://politoit-my.sharepoint.com/:f:/g/personal/simone_peirone_polito_it/EqCmaEAi2oBEqEqzBZ-pIA0Bke4EGNkUEhqwApEhUp9tDw?e=DtSbMP) (you need to login with your Polito credentials). \n",
        "\n",
        "You also need to the pretrained checkpoints for each domain from [here](https://politoit-my.sharepoint.com/:f:/g/personal/simone_peirone_polito_it/ErdsZhvmR65Lun5_5O0-l5sBTPjCCZZq2f700Tj_CNzjTQ?e=L1yflf).\n",
        "\n",
        "Upload the dataset on your Google Drive to access it from Google Colab.\n",
        "\n",
        "**NOTE**: As the dataset is quite heavy, we stronly suggest you to implement and test all your code on one for the three dataset. Then, once you are sure everything works, repeat the experiments on the remaining two datasets."
      ]
    },
    {
      "cell_type": "code",
      "execution_count": 1,
      "metadata": {
        "id": "iFu0AG7fhcL2",
        "outputId": "a1410656-f604-42d4-e16d-944ea2c76237",
        "colab": {
          "base_uri": "https://localhost:8080/"
        }
      },
      "outputs": [
        {
          "output_type": "stream",
          "name": "stdout",
          "text": [
            "Mounted at /content/drive\n"
          ]
        }
      ],
      "source": [
        "# Mount google drive \n",
        "from google.colab import drive\n",
        "drive.mount('/content/drive')"
      ]
    },
    {
      "cell_type": "code",
      "execution_count": 36,
      "metadata": {
        "id": "44Ox8gidhcL3",
        "outputId": "db2e07e4-272c-4e76-b1b5-75e52969b934",
        "colab": {
          "base_uri": "https://localhost:8080/"
        }
      },
      "outputs": [
        {
          "output_type": "stream",
          "name": "stdout",
          "text": [
            "-rw------- 1 root root 491M May 20 16:27 ./ek_data/P22_01.tar.gz\n",
            "-rw------- 1 root root 312M May 20 16:27 ./ek_data/P22_02.tar.gz\n",
            "-rw------- 1 root root 798M May 20 16:27 ./ek_data/P22_03.tar.gz\n",
            "-rw------- 1 root root 236M May 20 16:27 ./ek_data/P22_04.tar.gz\n",
            "-rw------- 1 root root 688M May 20 16:27 ./ek_data/P22_05.tar.gz\n",
            "-rw------- 1 root root 328M May 20 16:27 ./ek_data/P22_06.tar.gz\n",
            "-rw------- 1 root root 1.5G May 20 16:28 ./ek_data/P22_07.tar.gz\n",
            "-rw------- 1 root root 610M May 20 16:28 ./ek_data/P22_08.tar.gz\n",
            "-rw------- 1 root root 309M May 20 16:28 ./ek_data/P22_09.tar.gz\n",
            "-rw------- 1 root root 741M May 20 16:28 ./ek_data/P22_10.tar.gz\n",
            "-rw------- 1 root root 210M May 20 16:28 ./ek_data/P22_11.tar.gz\n",
            "-rw------- 1 root root 281M May 20 16:28 ./ek_data/P22_12.tar.gz\n",
            "-rw------- 1 root root 335M May 20 16:28 ./ek_data/P22_13.tar.gz\n",
            "-rw------- 1 root root 506M May 20 16:28 ./ek_data/P22_14.tar.gz\n",
            "-rw------- 1 root root 379M May 20 16:28 ./ek_data/P22_15.tar.gz\n",
            "-rw------- 1 root root 754M May 20 16:29 ./ek_data/P22_16.tar.gz\n",
            "-rw------- 1 root root 860M May 20 16:29 ./ek_data/P22_17.tar.gz\n"
          ]
        }
      ],
      "source": [
        "%%bash\n",
        "\n",
        "# As read and write operations from google drive are slow, we suggest to copy and unzip\n",
        "# the dataset in a local directory on the Colab's machine.\n",
        "mkdir -p ek_data/frames\n",
        "\n",
        "# Copy the *.tar.gz files of Epic-Kitchens\n",
        "# TODO: replace with your path\n",
        "cp /content/drive/MyDrive/P22/*.tar.gz ./ek_data\n",
        "# Untar\n",
        "for file in ./ek_data/*.tar.gz; do\n",
        "  fn=$(basename $file)\n",
        "  fn=${fn/.tar.gz/}\n",
        "  ls -lah $file\n",
        "  mkdir -p ek_data/frames/$fn\n",
        "  tar xf $file --directory=ek_data/frames/$fn\n",
        "done"
      ]
    },
    {
      "cell_type": "markdown",
      "metadata": {
        "id": "OT-m8Pz6hcL4"
      },
      "source": [
        "## Running the code"
      ]
    },
    {
      "cell_type": "code",
      "execution_count": 28,
      "metadata": {
        "id": "31xCeYMnc67M",
        "outputId": "c8ec6b08-1493-46d7-ba90-c03c30f52f87",
        "colab": {
          "base_uri": "https://localhost:8080/"
        }
      },
      "outputs": [
        {
          "output_type": "stream",
          "name": "stdout",
          "text": [
            "Cloning into 'mldl23-ego'...\n",
            "remote: Enumerating objects: 60, done.\u001b[K\n",
            "remote: Counting objects: 100% (34/34), done.\u001b[K\n",
            "remote: Compressing objects: 100% (30/30), done.\u001b[K\n",
            "remote: Total 60 (delta 10), reused 9 (delta 4), pack-reused 26\u001b[K\n",
            "Unpacking objects: 100% (60/60), 90.18 MiB | 10.62 MiB/s, done.\n"
          ]
        }
      ],
      "source": [
        "# Clone the public repository (or your repository)\n",
        "!git clone https://github.com/Raoolo/mldl23-ego.git mldl23-ego"
      ]
    },
    {
      "cell_type": "code",
      "execution_count": 4,
      "metadata": {
        "id": "OfxNEJA1dbLD",
        "outputId": "5f5c51ba-9c34-4dc3-b26d-3a53fafde84b",
        "colab": {
          "base_uri": "https://localhost:8080/"
        }
      },
      "outputs": [
        {
          "output_type": "stream",
          "name": "stdout",
          "text": [
            "⏬ Downloading https://github.com/conda-forge/miniforge/releases/download/23.1.0-1/Mambaforge-23.1.0-1-Linux-x86_64.sh...\n",
            "📦 Installing...\n",
            "📌 Adjusting configuration...\n",
            "🩹 Patching environment...\n",
            "⏲ Done in 0:00:13\n",
            "🔁 Restarting kernel...\n"
          ]
        }
      ],
      "source": [
        "# Install conda on Google Colab\n",
        "\n",
        "!pip install -q condacolab\n",
        "import condacolab\n",
        "condacolab.install()"
      ]
    },
    {
      "cell_type": "code",
      "execution_count": null,
      "metadata": {
        "id": "r9TB8gMAdoWt"
      },
      "outputs": [],
      "source": [
        "# Create a conda environment \n",
        "!conda env create --name egovision -f mldl23-ego/requirements.yaml"
      ]
    },
    {
      "cell_type": "markdown",
      "metadata": {
        "id": "37Sc22llhcL7"
      },
      "source": [
        "**TIP**: As the creation of the Conda Environment may be a slow process, you may look at the `conda-pack` package to store the environment in a .tar.gz archive you can store on Google Drive and restore later."
      ]
    },
    {
      "cell_type": "markdown",
      "metadata": {
        "id": "KPyC3-DehcL7"
      },
      "source": [
        "## Features extraction"
      ]
    },
    {
      "cell_type": "code",
      "execution_count": 37,
      "metadata": {
        "id": "88YghJyXhbfS",
        "outputId": "e7a294af-3452-4bc3-de0d-ec1af463caab",
        "colab": {
          "base_uri": "https://localhost:8080/"
        }
      },
      "outputs": [
        {
          "output_type": "stream",
          "name": "stderr",
          "text": [
            "2023-05-20 16:32:21 LOG INFO Feature Extraction\n",
            "2023-05-20 16:32:21 LOG INFO Running with parameters: \n",
            "  action: save\n",
            "  name: results\n",
            "  modality: ['RGB']\n",
            "  total_batch: 128\n",
            "  batch_size: 32\n",
            "  gpus: None\n",
            "  wandb_name: None\n",
            "  resume_from: /content/drive/MyDrive/saved_models/I3D_SourceOnlyD3\n",
            "  logname: save_D3-D3.log\n",
            "  models_dir: saved_models/results/May20_16-32-18\n",
            "  train:\n",
            "    num_iter: 5000\n",
            "    lr_steps: 3000\n",
            "    eval_freq: 50\n",
            "    num_clips: 1\n",
            "    dense_sampling:\n",
            "      RGB: True\n",
            "    num_frames_per_clip:\n",
            "      RGB: 16\n",
            "  test:\n",
            "    num_clips: 5\n",
            "    dense_sampling:\n",
            "      RGB: True\n",
            "    num_frames_per_clip:\n",
            "      RGB: 16\n",
            "  dataset:\n",
            "    annotations_path: train_val\n",
            "    shift: D3-D3\n",
            "    workers: 4\n",
            "    stride: 2\n",
            "    resolution: 224\n",
            "    RGB:\n",
            "      data_path: ../ek_data/frames\n",
            "      tmpl: img_{:010d}.jpg\n",
            "      features_name: test_feat_kinetics\n",
            "    Event:\n",
            "      rgb4e: 6\n",
            "  models:\n",
            "    RGB:\n",
            "      model: I3D\n",
            "      normalize: False\n",
            "      kwargs:\n",
            "      lr_steps: 3000\n",
            "      lr: 0.01\n",
            "      sgd_momentum: 0.9\n",
            "      weight_decay: 1e-07\n",
            "      dropout: 0.5\n",
            "      resolution: 224\n",
            "      weight_i3d_rgb: ./pretrained_i3d/rgb_imagenet.pt\n",
            "  split: test\n",
            "  save:\n",
            "    num_clips: 5\n",
            "    dense_sampling:\n",
            "      RGB: True\n",
            "    num_frames_per_clip:\n",
            "      RGB: 16\n",
            "  config: configs/I3D_save_feat.yaml\n",
            "  experiment_dir: results/May20_16-32-18\n",
            "  log_dir: TEST_RESULTS/results\n",
            "  logfile: TEST_RESULTS/results/save_D3-D3.log\n",
            "2023-05-20 16:32:21 LOG INFO Instantiating models per modality\n",
            "2023-05-20 16:32:21 LOG INFO I3D Net\tModality: RGB\n",
            "2023-05-20 16:32:21 LOG INFO Loading Kinetics weights I3D\n",
            "2023-05-20 16:32:22 LOG INFO  * Skipping Logits weight for 'logits.conv3d.weight'\n",
            "2023-05-20 16:32:22 LOG INFO  * Skipping Logits weight for 'logits.conv3d.bias'\n",
            "2023-05-20 16:32:24 LOG INFO Restoring action-classifier for modality RGB from /content/drive/MyDrive/saved_models/I3D_SourceOnlyD3/Oct25_23-33-52/action-classifier_RGB_9.pth\n",
            "2023-05-20 16:32:27 LOG INFO RGB-Model for action-classifier restored at iter 4850.0\n",
            "Best accuracy on val: 72.28 at iter 4800.0\n",
            "Last accuracy on val: 71.77\n",
            "Last loss: 0.00\n",
            "2023-05-20 16:32:27 LOG INFO Dataloader for D3-test with 974 samples generated\n",
            "/usr/local/envs/egovision/lib/python3.7/site-packages/torch/utils/data/dataloader.py:566: UserWarning: This DataLoader will create 4 worker processes in total. Our suggested max number of worker in current system is 2, which is smaller than what this DataLoader is going to create. Please be aware that excessive worker creation might get DataLoader running slow or even freeze, lower the worker number to avoid potential slowness/freeze if necessary.\n",
            "  cpuset_checked))\n",
            "2023-05-20 16:34:18 LOG INFO [194/974] top1= 58.763% top5 = 98.454%\n",
            "2023-05-20 16:35:58 LOG INFO [388/974] top1= 62.113% top5 = 98.711%\n",
            "2023-05-20 16:37:39 LOG INFO [582/974] top1= 64.777% top5 = 98.969%\n",
            "2023-05-20 16:39:20 LOG INFO [776/974] top1= 66.495% top5 = 98.969%\n",
            "2023-05-20 16:41:03 LOG INFO [970/974] top1= 65.773% top5 = 98.969%\n",
            "2023-05-20 16:41:04 LOG INFO Final accuracy: top1 = 65.81%\ttop5 = 98.97%\n",
            "2023-05-20 16:41:04 LOG INFO Class 0 = [101/241] = 41.91%\n",
            "2023-05-20 16:41:04 LOG INFO Class 1 = [206/280] = 73.57%\n",
            "2023-05-20 16:41:04 LOG INFO Class 2 = [61/102] = 59.80%\n",
            "2023-05-20 16:41:04 LOG INFO Class 3 = [34/71] = 47.89%\n",
            "2023-05-20 16:41:04 LOG INFO Class 4 = [216/245] = 88.16%\n",
            "2023-05-20 16:41:04 LOG INFO Class 5 = [22/29] = 75.86%\n",
            "2023-05-20 16:41:04 LOG INFO Class 6 = [0/1] = 0.00%\n",
            "2023-05-20 16:41:04 LOG INFO Class 7 = [1/5] = 20.00%\n",
            "2023-05-20 16:41:04 LOG INFO Accuracy by averaging class accuracies (same weight for each class): 50.89959025603797%\n"
          ]
        }
      ],
      "source": [
        "%%bash\n",
        "\n",
        "cd mldl23-ego\n",
        "# P01 equivale a D2, P08 equivale a D1\n",
        "PYTHON_PATH=/usr/local/envs/egovision/bin/python\n",
        "$PYTHON_PATH save_feat.py name=results \\\n",
        "  config=configs/I3D_save_feat.yaml \\\n",
        "  dataset.shift=D3-D3 \\\n",
        "  dataset.RGB.data_path=../ek_data/frames "
      ]
    },
    {
      "cell_type": "code",
      "source": [
        "import pickle\n",
        "\n",
        "def unpickle_file(file_path):\n",
        "    with open(file_path, 'rb') as f:\n",
        "        data = pickle.load(f)\n",
        "    return data\n",
        "\n",
        "# Usage:\n",
        "file_path = '/content/mldl23-ego/train_val/D1_test.pkl'\n",
        "unpickled_data = unpickle_file(file_path)\n"
      ],
      "metadata": {
        "id": "KFCfsbU_GClz"
      },
      "execution_count": 41,
      "outputs": []
    },
    {
      "cell_type": "code",
      "source": [
        "unpickled_data"
      ],
      "metadata": {
        "colab": {
          "base_uri": "https://localhost:8080/",
          "height": 424
        },
        "id": "-LslzGgIGWs7",
        "outputId": "282d3f06-5afb-4f6c-865b-8308eeb59522"
      },
      "execution_count": 42,
      "outputs": [
        {
          "output_type": "execute_result",
          "data": {
            "text/plain": [
              "       uid participant_id video_id            narration start_timestamp  \\\n",
              "0    13744            P08   P08_09        get mocha pot     00:00:02.61   \n",
              "1    13747            P08   P08_09          clean mocha     00:00:09.66   \n",
              "2    13748            P08   P08_09           pour water     00:00:10.26   \n",
              "3    13749            P08   P08_09           get filter     00:00:14.11   \n",
              "4    13751            P08   P08_09  clean coffee filter     00:00:19.63   \n",
              "..     ...            ...      ...                  ...             ...   \n",
              "430  14431            P08   P08_17         wipe off pan     00:09:27.87   \n",
              "431  14432            P08   P08_17            place pan     00:09:31.76   \n",
              "432  14433            P08   P08_17         close drawer     00:09:36.88   \n",
              "433  14434            P08   P08_17     close dishwasher     00:09:38.30   \n",
              "434  14435            P08   P08_17       wipe off hands     00:09:40.30   \n",
              "\n",
              "    stop_timestamp  start_frame  stop_frame      verb  verb_class  \n",
              "0      00:00:03.61          156         216       get           0  \n",
              "1      00:00:10.16          579         609     clean           4  \n",
              "2      00:00:12.19          615         731      pour           7  \n",
              "3      00:00:15.61          846         936       get           0  \n",
              "4      00:00:28.67         1177        1720     clean           4  \n",
              "..             ...          ...         ...       ...         ...  \n",
              "430    00:09:30.48        34072       34228  wipe-off           4  \n",
              "431    00:09:36.15        34305       34569     place           1  \n",
              "432    00:09:38.15        34612       34689     close           3  \n",
              "433    00:09:39.77        34698       34786     close           3  \n",
              "434    00:09:42.33        34818       34939  wipe-off           4  \n",
              "\n",
              "[435 rows x 10 columns]"
            ],
            "text/html": [
              "\n",
              "  <div id=\"df-135806ce-99fc-4739-8275-f54f267a9275\">\n",
              "    <div class=\"colab-df-container\">\n",
              "      <div>\n",
              "<style scoped>\n",
              "    .dataframe tbody tr th:only-of-type {\n",
              "        vertical-align: middle;\n",
              "    }\n",
              "\n",
              "    .dataframe tbody tr th {\n",
              "        vertical-align: top;\n",
              "    }\n",
              "\n",
              "    .dataframe thead th {\n",
              "        text-align: right;\n",
              "    }\n",
              "</style>\n",
              "<table border=\"1\" class=\"dataframe\">\n",
              "  <thead>\n",
              "    <tr style=\"text-align: right;\">\n",
              "      <th></th>\n",
              "      <th>uid</th>\n",
              "      <th>participant_id</th>\n",
              "      <th>video_id</th>\n",
              "      <th>narration</th>\n",
              "      <th>start_timestamp</th>\n",
              "      <th>stop_timestamp</th>\n",
              "      <th>start_frame</th>\n",
              "      <th>stop_frame</th>\n",
              "      <th>verb</th>\n",
              "      <th>verb_class</th>\n",
              "    </tr>\n",
              "  </thead>\n",
              "  <tbody>\n",
              "    <tr>\n",
              "      <th>0</th>\n",
              "      <td>13744</td>\n",
              "      <td>P08</td>\n",
              "      <td>P08_09</td>\n",
              "      <td>get mocha pot</td>\n",
              "      <td>00:00:02.61</td>\n",
              "      <td>00:00:03.61</td>\n",
              "      <td>156</td>\n",
              "      <td>216</td>\n",
              "      <td>get</td>\n",
              "      <td>0</td>\n",
              "    </tr>\n",
              "    <tr>\n",
              "      <th>1</th>\n",
              "      <td>13747</td>\n",
              "      <td>P08</td>\n",
              "      <td>P08_09</td>\n",
              "      <td>clean mocha</td>\n",
              "      <td>00:00:09.66</td>\n",
              "      <td>00:00:10.16</td>\n",
              "      <td>579</td>\n",
              "      <td>609</td>\n",
              "      <td>clean</td>\n",
              "      <td>4</td>\n",
              "    </tr>\n",
              "    <tr>\n",
              "      <th>2</th>\n",
              "      <td>13748</td>\n",
              "      <td>P08</td>\n",
              "      <td>P08_09</td>\n",
              "      <td>pour water</td>\n",
              "      <td>00:00:10.26</td>\n",
              "      <td>00:00:12.19</td>\n",
              "      <td>615</td>\n",
              "      <td>731</td>\n",
              "      <td>pour</td>\n",
              "      <td>7</td>\n",
              "    </tr>\n",
              "    <tr>\n",
              "      <th>3</th>\n",
              "      <td>13749</td>\n",
              "      <td>P08</td>\n",
              "      <td>P08_09</td>\n",
              "      <td>get filter</td>\n",
              "      <td>00:00:14.11</td>\n",
              "      <td>00:00:15.61</td>\n",
              "      <td>846</td>\n",
              "      <td>936</td>\n",
              "      <td>get</td>\n",
              "      <td>0</td>\n",
              "    </tr>\n",
              "    <tr>\n",
              "      <th>4</th>\n",
              "      <td>13751</td>\n",
              "      <td>P08</td>\n",
              "      <td>P08_09</td>\n",
              "      <td>clean coffee filter</td>\n",
              "      <td>00:00:19.63</td>\n",
              "      <td>00:00:28.67</td>\n",
              "      <td>1177</td>\n",
              "      <td>1720</td>\n",
              "      <td>clean</td>\n",
              "      <td>4</td>\n",
              "    </tr>\n",
              "    <tr>\n",
              "      <th>...</th>\n",
              "      <td>...</td>\n",
              "      <td>...</td>\n",
              "      <td>...</td>\n",
              "      <td>...</td>\n",
              "      <td>...</td>\n",
              "      <td>...</td>\n",
              "      <td>...</td>\n",
              "      <td>...</td>\n",
              "      <td>...</td>\n",
              "      <td>...</td>\n",
              "    </tr>\n",
              "    <tr>\n",
              "      <th>430</th>\n",
              "      <td>14431</td>\n",
              "      <td>P08</td>\n",
              "      <td>P08_17</td>\n",
              "      <td>wipe off pan</td>\n",
              "      <td>00:09:27.87</td>\n",
              "      <td>00:09:30.48</td>\n",
              "      <td>34072</td>\n",
              "      <td>34228</td>\n",
              "      <td>wipe-off</td>\n",
              "      <td>4</td>\n",
              "    </tr>\n",
              "    <tr>\n",
              "      <th>431</th>\n",
              "      <td>14432</td>\n",
              "      <td>P08</td>\n",
              "      <td>P08_17</td>\n",
              "      <td>place pan</td>\n",
              "      <td>00:09:31.76</td>\n",
              "      <td>00:09:36.15</td>\n",
              "      <td>34305</td>\n",
              "      <td>34569</td>\n",
              "      <td>place</td>\n",
              "      <td>1</td>\n",
              "    </tr>\n",
              "    <tr>\n",
              "      <th>432</th>\n",
              "      <td>14433</td>\n",
              "      <td>P08</td>\n",
              "      <td>P08_17</td>\n",
              "      <td>close drawer</td>\n",
              "      <td>00:09:36.88</td>\n",
              "      <td>00:09:38.15</td>\n",
              "      <td>34612</td>\n",
              "      <td>34689</td>\n",
              "      <td>close</td>\n",
              "      <td>3</td>\n",
              "    </tr>\n",
              "    <tr>\n",
              "      <th>433</th>\n",
              "      <td>14434</td>\n",
              "      <td>P08</td>\n",
              "      <td>P08_17</td>\n",
              "      <td>close dishwasher</td>\n",
              "      <td>00:09:38.30</td>\n",
              "      <td>00:09:39.77</td>\n",
              "      <td>34698</td>\n",
              "      <td>34786</td>\n",
              "      <td>close</td>\n",
              "      <td>3</td>\n",
              "    </tr>\n",
              "    <tr>\n",
              "      <th>434</th>\n",
              "      <td>14435</td>\n",
              "      <td>P08</td>\n",
              "      <td>P08_17</td>\n",
              "      <td>wipe off hands</td>\n",
              "      <td>00:09:40.30</td>\n",
              "      <td>00:09:42.33</td>\n",
              "      <td>34818</td>\n",
              "      <td>34939</td>\n",
              "      <td>wipe-off</td>\n",
              "      <td>4</td>\n",
              "    </tr>\n",
              "  </tbody>\n",
              "</table>\n",
              "<p>435 rows × 10 columns</p>\n",
              "</div>\n",
              "      <button class=\"colab-df-convert\" onclick=\"convertToInteractive('df-135806ce-99fc-4739-8275-f54f267a9275')\"\n",
              "              title=\"Convert this dataframe to an interactive table.\"\n",
              "              style=\"display:none;\">\n",
              "        \n",
              "  <svg xmlns=\"http://www.w3.org/2000/svg\" height=\"24px\"viewBox=\"0 0 24 24\"\n",
              "       width=\"24px\">\n",
              "    <path d=\"M0 0h24v24H0V0z\" fill=\"none\"/>\n",
              "    <path d=\"M18.56 5.44l.94 2.06.94-2.06 2.06-.94-2.06-.94-.94-2.06-.94 2.06-2.06.94zm-11 1L8.5 8.5l.94-2.06 2.06-.94-2.06-.94L8.5 2.5l-.94 2.06-2.06.94zm10 10l.94 2.06.94-2.06 2.06-.94-2.06-.94-.94-2.06-.94 2.06-2.06.94z\"/><path d=\"M17.41 7.96l-1.37-1.37c-.4-.4-.92-.59-1.43-.59-.52 0-1.04.2-1.43.59L10.3 9.45l-7.72 7.72c-.78.78-.78 2.05 0 2.83L4 21.41c.39.39.9.59 1.41.59.51 0 1.02-.2 1.41-.59l7.78-7.78 2.81-2.81c.8-.78.8-2.07 0-2.86zM5.41 20L4 18.59l7.72-7.72 1.47 1.35L5.41 20z\"/>\n",
              "  </svg>\n",
              "      </button>\n",
              "      \n",
              "  <style>\n",
              "    .colab-df-container {\n",
              "      display:flex;\n",
              "      flex-wrap:wrap;\n",
              "      gap: 12px;\n",
              "    }\n",
              "\n",
              "    .colab-df-convert {\n",
              "      background-color: #E8F0FE;\n",
              "      border: none;\n",
              "      border-radius: 50%;\n",
              "      cursor: pointer;\n",
              "      display: none;\n",
              "      fill: #1967D2;\n",
              "      height: 32px;\n",
              "      padding: 0 0 0 0;\n",
              "      width: 32px;\n",
              "    }\n",
              "\n",
              "    .colab-df-convert:hover {\n",
              "      background-color: #E2EBFA;\n",
              "      box-shadow: 0px 1px 2px rgba(60, 64, 67, 0.3), 0px 1px 3px 1px rgba(60, 64, 67, 0.15);\n",
              "      fill: #174EA6;\n",
              "    }\n",
              "\n",
              "    [theme=dark] .colab-df-convert {\n",
              "      background-color: #3B4455;\n",
              "      fill: #D2E3FC;\n",
              "    }\n",
              "\n",
              "    [theme=dark] .colab-df-convert:hover {\n",
              "      background-color: #434B5C;\n",
              "      box-shadow: 0px 1px 3px 1px rgba(0, 0, 0, 0.15);\n",
              "      filter: drop-shadow(0px 1px 2px rgba(0, 0, 0, 0.3));\n",
              "      fill: #FFFFFF;\n",
              "    }\n",
              "  </style>\n",
              "\n",
              "      <script>\n",
              "        const buttonEl =\n",
              "          document.querySelector('#df-135806ce-99fc-4739-8275-f54f267a9275 button.colab-df-convert');\n",
              "        buttonEl.style.display =\n",
              "          google.colab.kernel.accessAllowed ? 'block' : 'none';\n",
              "\n",
              "        async function convertToInteractive(key) {\n",
              "          const element = document.querySelector('#df-135806ce-99fc-4739-8275-f54f267a9275');\n",
              "          const dataTable =\n",
              "            await google.colab.kernel.invokeFunction('convertToInteractive',\n",
              "                                                     [key], {});\n",
              "          if (!dataTable) return;\n",
              "\n",
              "          const docLinkHtml = 'Like what you see? Visit the ' +\n",
              "            '<a target=\"_blank\" href=https://colab.research.google.com/notebooks/data_table.ipynb>data table notebook</a>'\n",
              "            + ' to learn more about interactive tables.';\n",
              "          element.innerHTML = '';\n",
              "          dataTable['output_type'] = 'display_data';\n",
              "          await google.colab.output.renderOutput(dataTable, element);\n",
              "          const docLink = document.createElement('div');\n",
              "          docLink.innerHTML = docLinkHtml;\n",
              "          element.appendChild(docLink);\n",
              "        }\n",
              "      </script>\n",
              "    </div>\n",
              "  </div>\n",
              "  "
            ]
          },
          "metadata": {},
          "execution_count": 42
        }
      ]
    }
  ],
  "metadata": {
    "accelerator": "GPU",
    "colab": {
      "provenance": [],
      "gpuType": "T4",
      "include_colab_link": true
    },
    "gpuClass": "standard",
    "kernelspec": {
      "display_name": "aml22",
      "language": "python",
      "name": "python3"
    },
    "language_info": {
      "codemirror_mode": {
        "name": "ipython",
        "version": 3
      },
      "file_extension": ".py",
      "mimetype": "text/x-python",
      "name": "python",
      "nbconvert_exporter": "python",
      "pygments_lexer": "ipython3",
      "version": "3.7.13"
    },
    "vscode": {
      "interpreter": {
        "hash": "2fc1f0eeae38a5df67b0f713e03196095ce1bfa55aa551576e8e58c2ba904c5a"
      }
    }
  },
  "nbformat": 4,
  "nbformat_minor": 0
}